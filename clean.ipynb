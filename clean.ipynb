{
 "cells": [
  {
   "cell_type": "code",
   "execution_count": 1,
   "metadata": {},
   "outputs": [],
   "source": [
    "import pandas as pd\n",
    "import numpy as np\n",
    "from src.my_functions import clean as mfc\n",
    "pd.set_option('display.max_columns', None)"
   ]
  },
  {
   "cell_type": "markdown",
   "metadata": {},
   "source": [
    "## DATASET IMPORT"
   ]
  },
  {
   "cell_type": "code",
   "execution_count": 2,
   "metadata": {},
   "outputs": [],
   "source": [
    "df_backup = pd.read_csv('data/attacks.csv',encoding='cp1252')"
   ]
  },
  {
   "cell_type": "markdown",
   "metadata": {},
   "source": [
    "## DATASET EXPLORATION"
   ]
  },
  {
   "cell_type": "code",
   "execution_count": 3,
   "metadata": {},
   "outputs": [],
   "source": [
    "df = df_backup.copy()"
   ]
  },
  {
   "cell_type": "code",
   "execution_count": 4,
   "metadata": {},
   "outputs": [
    {
     "data": {
      "text/html": [
       "<div>\n",
       "<style scoped>\n",
       "    .dataframe tbody tr th:only-of-type {\n",
       "        vertical-align: middle;\n",
       "    }\n",
       "\n",
       "    .dataframe tbody tr th {\n",
       "        vertical-align: top;\n",
       "    }\n",
       "\n",
       "    .dataframe thead th {\n",
       "        text-align: right;\n",
       "    }\n",
       "</style>\n",
       "<table border=\"1\" class=\"dataframe\">\n",
       "  <thead>\n",
       "    <tr style=\"text-align: right;\">\n",
       "      <th></th>\n",
       "      <th>Case Number</th>\n",
       "      <th>Date</th>\n",
       "      <th>Year</th>\n",
       "      <th>Type</th>\n",
       "      <th>Country</th>\n",
       "      <th>Area</th>\n",
       "      <th>Location</th>\n",
       "      <th>Activity</th>\n",
       "      <th>Name</th>\n",
       "      <th>Sex</th>\n",
       "      <th>Age</th>\n",
       "      <th>Injury</th>\n",
       "      <th>Fatal (Y/N)</th>\n",
       "      <th>Time</th>\n",
       "      <th>Species</th>\n",
       "      <th>Investigator or Source</th>\n",
       "      <th>pdf</th>\n",
       "      <th>href formula</th>\n",
       "      <th>href</th>\n",
       "      <th>Case Number.1</th>\n",
       "      <th>Case Number.2</th>\n",
       "      <th>original order</th>\n",
       "      <th>Unnamed: 22</th>\n",
       "      <th>Unnamed: 23</th>\n",
       "    </tr>\n",
       "  </thead>\n",
       "  <tbody>\n",
       "    <tr>\n",
       "      <th>351</th>\n",
       "      <td>2015.10.05.b</td>\n",
       "      <td>05-Oct-2015</td>\n",
       "      <td>2015.0</td>\n",
       "      <td>Unprovoked</td>\n",
       "      <td>USA</td>\n",
       "      <td>Florida</td>\n",
       "      <td>Pepper Park Beach, St. Lucie County</td>\n",
       "      <td>Body boarding</td>\n",
       "      <td>male</td>\n",
       "      <td>M</td>\n",
       "      <td>22</td>\n",
       "      <td>2 lacerations to ankle</td>\n",
       "      <td>N</td>\n",
       "      <td>13h00</td>\n",
       "      <td>NaN</td>\n",
       "      <td>WPBF.com, 10/6/2015</td>\n",
       "      <td>2015.10.05.b-FtPierce.pdf</td>\n",
       "      <td>http://sharkattackfile.net/spreadsheets/pdf_di...</td>\n",
       "      <td>http://sharkattackfile.net/spreadsheets/pdf_di...</td>\n",
       "      <td>2015.10.05.b</td>\n",
       "      <td>2015.10.05.b</td>\n",
       "      <td>5952.0</td>\n",
       "      <td>NaN</td>\n",
       "      <td>NaN</td>\n",
       "    </tr>\n",
       "    <tr>\n",
       "      <th>11181</th>\n",
       "      <td>NaN</td>\n",
       "      <td>NaN</td>\n",
       "      <td>NaN</td>\n",
       "      <td>NaN</td>\n",
       "      <td>NaN</td>\n",
       "      <td>NaN</td>\n",
       "      <td>NaN</td>\n",
       "      <td>NaN</td>\n",
       "      <td>NaN</td>\n",
       "      <td>NaN</td>\n",
       "      <td>NaN</td>\n",
       "      <td>NaN</td>\n",
       "      <td>NaN</td>\n",
       "      <td>NaN</td>\n",
       "      <td>NaN</td>\n",
       "      <td>NaN</td>\n",
       "      <td>NaN</td>\n",
       "      <td>NaN</td>\n",
       "      <td>NaN</td>\n",
       "      <td>NaN</td>\n",
       "      <td>NaN</td>\n",
       "      <td>NaN</td>\n",
       "      <td>NaN</td>\n",
       "      <td>NaN</td>\n",
       "    </tr>\n",
       "    <tr>\n",
       "      <th>17178</th>\n",
       "      <td>NaN</td>\n",
       "      <td>NaN</td>\n",
       "      <td>NaN</td>\n",
       "      <td>NaN</td>\n",
       "      <td>NaN</td>\n",
       "      <td>NaN</td>\n",
       "      <td>NaN</td>\n",
       "      <td>NaN</td>\n",
       "      <td>NaN</td>\n",
       "      <td>NaN</td>\n",
       "      <td>NaN</td>\n",
       "      <td>NaN</td>\n",
       "      <td>NaN</td>\n",
       "      <td>NaN</td>\n",
       "      <td>NaN</td>\n",
       "      <td>NaN</td>\n",
       "      <td>NaN</td>\n",
       "      <td>NaN</td>\n",
       "      <td>NaN</td>\n",
       "      <td>NaN</td>\n",
       "      <td>NaN</td>\n",
       "      <td>NaN</td>\n",
       "      <td>NaN</td>\n",
       "      <td>NaN</td>\n",
       "    </tr>\n",
       "    <tr>\n",
       "      <th>16202</th>\n",
       "      <td>NaN</td>\n",
       "      <td>NaN</td>\n",
       "      <td>NaN</td>\n",
       "      <td>NaN</td>\n",
       "      <td>NaN</td>\n",
       "      <td>NaN</td>\n",
       "      <td>NaN</td>\n",
       "      <td>NaN</td>\n",
       "      <td>NaN</td>\n",
       "      <td>NaN</td>\n",
       "      <td>NaN</td>\n",
       "      <td>NaN</td>\n",
       "      <td>NaN</td>\n",
       "      <td>NaN</td>\n",
       "      <td>NaN</td>\n",
       "      <td>NaN</td>\n",
       "      <td>NaN</td>\n",
       "      <td>NaN</td>\n",
       "      <td>NaN</td>\n",
       "      <td>NaN</td>\n",
       "      <td>NaN</td>\n",
       "      <td>NaN</td>\n",
       "      <td>NaN</td>\n",
       "      <td>NaN</td>\n",
       "    </tr>\n",
       "    <tr>\n",
       "      <th>10598</th>\n",
       "      <td>NaN</td>\n",
       "      <td>NaN</td>\n",
       "      <td>NaN</td>\n",
       "      <td>NaN</td>\n",
       "      <td>NaN</td>\n",
       "      <td>NaN</td>\n",
       "      <td>NaN</td>\n",
       "      <td>NaN</td>\n",
       "      <td>NaN</td>\n",
       "      <td>NaN</td>\n",
       "      <td>NaN</td>\n",
       "      <td>NaN</td>\n",
       "      <td>NaN</td>\n",
       "      <td>NaN</td>\n",
       "      <td>NaN</td>\n",
       "      <td>NaN</td>\n",
       "      <td>NaN</td>\n",
       "      <td>NaN</td>\n",
       "      <td>NaN</td>\n",
       "      <td>NaN</td>\n",
       "      <td>NaN</td>\n",
       "      <td>NaN</td>\n",
       "      <td>NaN</td>\n",
       "      <td>NaN</td>\n",
       "    </tr>\n",
       "    <tr>\n",
       "      <th>7939</th>\n",
       "      <td>0</td>\n",
       "      <td>NaN</td>\n",
       "      <td>NaN</td>\n",
       "      <td>NaN</td>\n",
       "      <td>NaN</td>\n",
       "      <td>NaN</td>\n",
       "      <td>NaN</td>\n",
       "      <td>NaN</td>\n",
       "      <td>NaN</td>\n",
       "      <td>NaN</td>\n",
       "      <td>NaN</td>\n",
       "      <td>NaN</td>\n",
       "      <td>NaN</td>\n",
       "      <td>NaN</td>\n",
       "      <td>NaN</td>\n",
       "      <td>NaN</td>\n",
       "      <td>NaN</td>\n",
       "      <td>NaN</td>\n",
       "      <td>NaN</td>\n",
       "      <td>NaN</td>\n",
       "      <td>NaN</td>\n",
       "      <td>NaN</td>\n",
       "      <td>NaN</td>\n",
       "      <td>NaN</td>\n",
       "    </tr>\n",
       "    <tr>\n",
       "      <th>18108</th>\n",
       "      <td>NaN</td>\n",
       "      <td>NaN</td>\n",
       "      <td>NaN</td>\n",
       "      <td>NaN</td>\n",
       "      <td>NaN</td>\n",
       "      <td>NaN</td>\n",
       "      <td>NaN</td>\n",
       "      <td>NaN</td>\n",
       "      <td>NaN</td>\n",
       "      <td>NaN</td>\n",
       "      <td>NaN</td>\n",
       "      <td>NaN</td>\n",
       "      <td>NaN</td>\n",
       "      <td>NaN</td>\n",
       "      <td>NaN</td>\n",
       "      <td>NaN</td>\n",
       "      <td>NaN</td>\n",
       "      <td>NaN</td>\n",
       "      <td>NaN</td>\n",
       "      <td>NaN</td>\n",
       "      <td>NaN</td>\n",
       "      <td>NaN</td>\n",
       "      <td>NaN</td>\n",
       "      <td>NaN</td>\n",
       "    </tr>\n",
       "    <tr>\n",
       "      <th>12915</th>\n",
       "      <td>NaN</td>\n",
       "      <td>NaN</td>\n",
       "      <td>NaN</td>\n",
       "      <td>NaN</td>\n",
       "      <td>NaN</td>\n",
       "      <td>NaN</td>\n",
       "      <td>NaN</td>\n",
       "      <td>NaN</td>\n",
       "      <td>NaN</td>\n",
       "      <td>NaN</td>\n",
       "      <td>NaN</td>\n",
       "      <td>NaN</td>\n",
       "      <td>NaN</td>\n",
       "      <td>NaN</td>\n",
       "      <td>NaN</td>\n",
       "      <td>NaN</td>\n",
       "      <td>NaN</td>\n",
       "      <td>NaN</td>\n",
       "      <td>NaN</td>\n",
       "      <td>NaN</td>\n",
       "      <td>NaN</td>\n",
       "      <td>NaN</td>\n",
       "      <td>NaN</td>\n",
       "      <td>NaN</td>\n",
       "    </tr>\n",
       "    <tr>\n",
       "      <th>22934</th>\n",
       "      <td>NaN</td>\n",
       "      <td>NaN</td>\n",
       "      <td>NaN</td>\n",
       "      <td>NaN</td>\n",
       "      <td>NaN</td>\n",
       "      <td>NaN</td>\n",
       "      <td>NaN</td>\n",
       "      <td>NaN</td>\n",
       "      <td>NaN</td>\n",
       "      <td>NaN</td>\n",
       "      <td>NaN</td>\n",
       "      <td>NaN</td>\n",
       "      <td>NaN</td>\n",
       "      <td>NaN</td>\n",
       "      <td>NaN</td>\n",
       "      <td>NaN</td>\n",
       "      <td>NaN</td>\n",
       "      <td>NaN</td>\n",
       "      <td>NaN</td>\n",
       "      <td>NaN</td>\n",
       "      <td>NaN</td>\n",
       "      <td>NaN</td>\n",
       "      <td>NaN</td>\n",
       "      <td>NaN</td>\n",
       "    </tr>\n",
       "    <tr>\n",
       "      <th>10567</th>\n",
       "      <td>NaN</td>\n",
       "      <td>NaN</td>\n",
       "      <td>NaN</td>\n",
       "      <td>NaN</td>\n",
       "      <td>NaN</td>\n",
       "      <td>NaN</td>\n",
       "      <td>NaN</td>\n",
       "      <td>NaN</td>\n",
       "      <td>NaN</td>\n",
       "      <td>NaN</td>\n",
       "      <td>NaN</td>\n",
       "      <td>NaN</td>\n",
       "      <td>NaN</td>\n",
       "      <td>NaN</td>\n",
       "      <td>NaN</td>\n",
       "      <td>NaN</td>\n",
       "      <td>NaN</td>\n",
       "      <td>NaN</td>\n",
       "      <td>NaN</td>\n",
       "      <td>NaN</td>\n",
       "      <td>NaN</td>\n",
       "      <td>NaN</td>\n",
       "      <td>NaN</td>\n",
       "      <td>NaN</td>\n",
       "    </tr>\n",
       "    <tr>\n",
       "      <th>18678</th>\n",
       "      <td>NaN</td>\n",
       "      <td>NaN</td>\n",
       "      <td>NaN</td>\n",
       "      <td>NaN</td>\n",
       "      <td>NaN</td>\n",
       "      <td>NaN</td>\n",
       "      <td>NaN</td>\n",
       "      <td>NaN</td>\n",
       "      <td>NaN</td>\n",
       "      <td>NaN</td>\n",
       "      <td>NaN</td>\n",
       "      <td>NaN</td>\n",
       "      <td>NaN</td>\n",
       "      <td>NaN</td>\n",
       "      <td>NaN</td>\n",
       "      <td>NaN</td>\n",
       "      <td>NaN</td>\n",
       "      <td>NaN</td>\n",
       "      <td>NaN</td>\n",
       "      <td>NaN</td>\n",
       "      <td>NaN</td>\n",
       "      <td>NaN</td>\n",
       "      <td>NaN</td>\n",
       "      <td>NaN</td>\n",
       "    </tr>\n",
       "    <tr>\n",
       "      <th>13507</th>\n",
       "      <td>NaN</td>\n",
       "      <td>NaN</td>\n",
       "      <td>NaN</td>\n",
       "      <td>NaN</td>\n",
       "      <td>NaN</td>\n",
       "      <td>NaN</td>\n",
       "      <td>NaN</td>\n",
       "      <td>NaN</td>\n",
       "      <td>NaN</td>\n",
       "      <td>NaN</td>\n",
       "      <td>NaN</td>\n",
       "      <td>NaN</td>\n",
       "      <td>NaN</td>\n",
       "      <td>NaN</td>\n",
       "      <td>NaN</td>\n",
       "      <td>NaN</td>\n",
       "      <td>NaN</td>\n",
       "      <td>NaN</td>\n",
       "      <td>NaN</td>\n",
       "      <td>NaN</td>\n",
       "      <td>NaN</td>\n",
       "      <td>NaN</td>\n",
       "      <td>NaN</td>\n",
       "      <td>NaN</td>\n",
       "    </tr>\n",
       "    <tr>\n",
       "      <th>12985</th>\n",
       "      <td>NaN</td>\n",
       "      <td>NaN</td>\n",
       "      <td>NaN</td>\n",
       "      <td>NaN</td>\n",
       "      <td>NaN</td>\n",
       "      <td>NaN</td>\n",
       "      <td>NaN</td>\n",
       "      <td>NaN</td>\n",
       "      <td>NaN</td>\n",
       "      <td>NaN</td>\n",
       "      <td>NaN</td>\n",
       "      <td>NaN</td>\n",
       "      <td>NaN</td>\n",
       "      <td>NaN</td>\n",
       "      <td>NaN</td>\n",
       "      <td>NaN</td>\n",
       "      <td>NaN</td>\n",
       "      <td>NaN</td>\n",
       "      <td>NaN</td>\n",
       "      <td>NaN</td>\n",
       "      <td>NaN</td>\n",
       "      <td>NaN</td>\n",
       "      <td>NaN</td>\n",
       "      <td>NaN</td>\n",
       "    </tr>\n",
       "    <tr>\n",
       "      <th>4865</th>\n",
       "      <td>1936.12.01</td>\n",
       "      <td>01-Dec-1936</td>\n",
       "      <td>1936.0</td>\n",
       "      <td>Boating</td>\n",
       "      <td>AUSTRALIA</td>\n",
       "      <td>Victoria</td>\n",
       "      <td>Mordialloc</td>\n",
       "      <td>Fishing</td>\n",
       "      <td>Charles Swan, a returned soldier</td>\n",
       "      <td>M</td>\n",
       "      <td>50</td>\n",
       "      <td>FATAL, his 2.4 m dinghy was found with 2' x 3'...</td>\n",
       "      <td>Y</td>\n",
       "      <td>NaN</td>\n",
       "      <td>Thought to involve a 12' white shark</td>\n",
       "      <td>The Age, 12/4/1936</td>\n",
       "      <td>1936.12.01-Swan.pdf</td>\n",
       "      <td>http://sharkattackfile.net/spreadsheets/pdf_di...</td>\n",
       "      <td>http://sharkattackfile.net/spreadsheets/pdf_di...</td>\n",
       "      <td>1936.12.01</td>\n",
       "      <td>1936.12.01</td>\n",
       "      <td>1438.0</td>\n",
       "      <td>NaN</td>\n",
       "      <td>NaN</td>\n",
       "    </tr>\n",
       "    <tr>\n",
       "      <th>17217</th>\n",
       "      <td>NaN</td>\n",
       "      <td>NaN</td>\n",
       "      <td>NaN</td>\n",
       "      <td>NaN</td>\n",
       "      <td>NaN</td>\n",
       "      <td>NaN</td>\n",
       "      <td>NaN</td>\n",
       "      <td>NaN</td>\n",
       "      <td>NaN</td>\n",
       "      <td>NaN</td>\n",
       "      <td>NaN</td>\n",
       "      <td>NaN</td>\n",
       "      <td>NaN</td>\n",
       "      <td>NaN</td>\n",
       "      <td>NaN</td>\n",
       "      <td>NaN</td>\n",
       "      <td>NaN</td>\n",
       "      <td>NaN</td>\n",
       "      <td>NaN</td>\n",
       "      <td>NaN</td>\n",
       "      <td>NaN</td>\n",
       "      <td>NaN</td>\n",
       "      <td>NaN</td>\n",
       "      <td>NaN</td>\n",
       "    </tr>\n",
       "  </tbody>\n",
       "</table>\n",
       "</div>"
      ],
      "text/plain": [
       "        Case Number         Date    Year        Type    Country      Area  \\\n",
       "351    2015.10.05.b  05-Oct-2015  2015.0  Unprovoked        USA   Florida   \n",
       "11181           NaN          NaN     NaN         NaN        NaN       NaN   \n",
       "17178           NaN          NaN     NaN         NaN        NaN       NaN   \n",
       "16202           NaN          NaN     NaN         NaN        NaN       NaN   \n",
       "10598           NaN          NaN     NaN         NaN        NaN       NaN   \n",
       "7939              0          NaN     NaN         NaN        NaN       NaN   \n",
       "18108           NaN          NaN     NaN         NaN        NaN       NaN   \n",
       "12915           NaN          NaN     NaN         NaN        NaN       NaN   \n",
       "22934           NaN          NaN     NaN         NaN        NaN       NaN   \n",
       "10567           NaN          NaN     NaN         NaN        NaN       NaN   \n",
       "18678           NaN          NaN     NaN         NaN        NaN       NaN   \n",
       "13507           NaN          NaN     NaN         NaN        NaN       NaN   \n",
       "12985           NaN          NaN     NaN         NaN        NaN       NaN   \n",
       "4865     1936.12.01  01-Dec-1936  1936.0     Boating  AUSTRALIA  Victoria   \n",
       "17217           NaN          NaN     NaN         NaN        NaN       NaN   \n",
       "\n",
       "                                  Location       Activity  \\\n",
       "351    Pepper Park Beach, St. Lucie County  Body boarding   \n",
       "11181                                  NaN            NaN   \n",
       "17178                                  NaN            NaN   \n",
       "16202                                  NaN            NaN   \n",
       "10598                                  NaN            NaN   \n",
       "7939                                   NaN            NaN   \n",
       "18108                                  NaN            NaN   \n",
       "12915                                  NaN            NaN   \n",
       "22934                                  NaN            NaN   \n",
       "10567                                  NaN            NaN   \n",
       "18678                                  NaN            NaN   \n",
       "13507                                  NaN            NaN   \n",
       "12985                                  NaN            NaN   \n",
       "4865                            Mordialloc        Fishing   \n",
       "17217                                  NaN            NaN   \n",
       "\n",
       "                                   Name Sex   Age  \\\n",
       "351                                male    M   22   \n",
       "11181                               NaN  NaN  NaN   \n",
       "17178                               NaN  NaN  NaN   \n",
       "16202                               NaN  NaN  NaN   \n",
       "10598                               NaN  NaN  NaN   \n",
       "7939                                NaN  NaN  NaN   \n",
       "18108                               NaN  NaN  NaN   \n",
       "12915                               NaN  NaN  NaN   \n",
       "22934                               NaN  NaN  NaN   \n",
       "10567                               NaN  NaN  NaN   \n",
       "18678                               NaN  NaN  NaN   \n",
       "13507                               NaN  NaN  NaN   \n",
       "12985                               NaN  NaN  NaN   \n",
       "4865   Charles Swan, a returned soldier    M   50   \n",
       "17217                               NaN  NaN  NaN   \n",
       "\n",
       "                                                  Injury Fatal (Y/N)   Time  \\\n",
       "351                               2 lacerations to ankle           N  13h00   \n",
       "11181                                                NaN         NaN    NaN   \n",
       "17178                                                NaN         NaN    NaN   \n",
       "16202                                                NaN         NaN    NaN   \n",
       "10598                                                NaN         NaN    NaN   \n",
       "7939                                                 NaN         NaN    NaN   \n",
       "18108                                                NaN         NaN    NaN   \n",
       "12915                                                NaN         NaN    NaN   \n",
       "22934                                                NaN         NaN    NaN   \n",
       "10567                                                NaN         NaN    NaN   \n",
       "18678                                                NaN         NaN    NaN   \n",
       "13507                                                NaN         NaN    NaN   \n",
       "12985                                                NaN         NaN    NaN   \n",
       "4865   FATAL, his 2.4 m dinghy was found with 2' x 3'...           Y    NaN   \n",
       "17217                                                NaN         NaN    NaN   \n",
       "\n",
       "                                   Species  Investigator or Source  \\\n",
       "351                                     NaN    WPBF.com, 10/6/2015   \n",
       "11181                                   NaN                    NaN   \n",
       "17178                                   NaN                    NaN   \n",
       "16202                                   NaN                    NaN   \n",
       "10598                                   NaN                    NaN   \n",
       "7939                                    NaN                    NaN   \n",
       "18108                                   NaN                    NaN   \n",
       "12915                                   NaN                    NaN   \n",
       "22934                                   NaN                    NaN   \n",
       "10567                                   NaN                    NaN   \n",
       "18678                                   NaN                    NaN   \n",
       "13507                                   NaN                    NaN   \n",
       "12985                                   NaN                    NaN   \n",
       "4865   Thought to involve a 12' white shark     The Age, 12/4/1936   \n",
       "17217                                   NaN                    NaN   \n",
       "\n",
       "                             pdf  \\\n",
       "351    2015.10.05.b-FtPierce.pdf   \n",
       "11181                        NaN   \n",
       "17178                        NaN   \n",
       "16202                        NaN   \n",
       "10598                        NaN   \n",
       "7939                         NaN   \n",
       "18108                        NaN   \n",
       "12915                        NaN   \n",
       "22934                        NaN   \n",
       "10567                        NaN   \n",
       "18678                        NaN   \n",
       "13507                        NaN   \n",
       "12985                        NaN   \n",
       "4865         1936.12.01-Swan.pdf   \n",
       "17217                        NaN   \n",
       "\n",
       "                                            href formula  \\\n",
       "351    http://sharkattackfile.net/spreadsheets/pdf_di...   \n",
       "11181                                                NaN   \n",
       "17178                                                NaN   \n",
       "16202                                                NaN   \n",
       "10598                                                NaN   \n",
       "7939                                                 NaN   \n",
       "18108                                                NaN   \n",
       "12915                                                NaN   \n",
       "22934                                                NaN   \n",
       "10567                                                NaN   \n",
       "18678                                                NaN   \n",
       "13507                                                NaN   \n",
       "12985                                                NaN   \n",
       "4865   http://sharkattackfile.net/spreadsheets/pdf_di...   \n",
       "17217                                                NaN   \n",
       "\n",
       "                                                    href Case Number.1  \\\n",
       "351    http://sharkattackfile.net/spreadsheets/pdf_di...  2015.10.05.b   \n",
       "11181                                                NaN           NaN   \n",
       "17178                                                NaN           NaN   \n",
       "16202                                                NaN           NaN   \n",
       "10598                                                NaN           NaN   \n",
       "7939                                                 NaN           NaN   \n",
       "18108                                                NaN           NaN   \n",
       "12915                                                NaN           NaN   \n",
       "22934                                                NaN           NaN   \n",
       "10567                                                NaN           NaN   \n",
       "18678                                                NaN           NaN   \n",
       "13507                                                NaN           NaN   \n",
       "12985                                                NaN           NaN   \n",
       "4865   http://sharkattackfile.net/spreadsheets/pdf_di...    1936.12.01   \n",
       "17217                                                NaN           NaN   \n",
       "\n",
       "      Case Number.2  original order Unnamed: 22 Unnamed: 23  \n",
       "351    2015.10.05.b          5952.0         NaN         NaN  \n",
       "11181           NaN             NaN         NaN         NaN  \n",
       "17178           NaN             NaN         NaN         NaN  \n",
       "16202           NaN             NaN         NaN         NaN  \n",
       "10598           NaN             NaN         NaN         NaN  \n",
       "7939            NaN             NaN         NaN         NaN  \n",
       "18108           NaN             NaN         NaN         NaN  \n",
       "12915           NaN             NaN         NaN         NaN  \n",
       "22934           NaN             NaN         NaN         NaN  \n",
       "10567           NaN             NaN         NaN         NaN  \n",
       "18678           NaN             NaN         NaN         NaN  \n",
       "13507           NaN             NaN         NaN         NaN  \n",
       "12985           NaN             NaN         NaN         NaN  \n",
       "4865     1936.12.01          1438.0         NaN         NaN  \n",
       "17217           NaN             NaN         NaN         NaN  "
      ]
     },
     "execution_count": 4,
     "metadata": {},
     "output_type": "execute_result"
    }
   ],
   "source": [
    "df.sample(15)"
   ]
  },
  {
   "cell_type": "code",
   "execution_count": 5,
   "metadata": {},
   "outputs": [
    {
     "data": {
      "text/plain": [
       "(25723, 24)"
      ]
     },
     "execution_count": 5,
     "metadata": {},
     "output_type": "execute_result"
    }
   ],
   "source": [
    "df.shape"
   ]
  },
  {
   "cell_type": "code",
   "execution_count": 6,
   "metadata": {},
   "outputs": [
    {
     "data": {
      "text/plain": [
       "Index(['Case Number', 'Date', 'Year', 'Type', 'Country', 'Area', 'Location',\n",
       "       'Activity', 'Name', 'Sex ', 'Age', 'Injury', 'Fatal (Y/N)', 'Time',\n",
       "       'Species ', 'Investigator or Source', 'pdf', 'href formula', 'href',\n",
       "       'Case Number.1', 'Case Number.2', 'original order', 'Unnamed: 22',\n",
       "       'Unnamed: 23'],\n",
       "      dtype='object')"
      ]
     },
     "execution_count": 6,
     "metadata": {},
     "output_type": "execute_result"
    }
   ],
   "source": [
    "df.columns"
   ]
  },
  {
   "cell_type": "code",
   "execution_count": 7,
   "metadata": {},
   "outputs": [
    {
     "name": "stdout",
     "output_type": "stream",
     "text": [
      "<class 'pandas.core.frame.DataFrame'>\n",
      "RangeIndex: 25723 entries, 0 to 25722\n",
      "Data columns (total 24 columns):\n",
      " #   Column                  Non-Null Count  Dtype  \n",
      "---  ------                  --------------  -----  \n",
      " 0   Case Number             8702 non-null   object \n",
      " 1   Date                    6302 non-null   object \n",
      " 2   Year                    6300 non-null   float64\n",
      " 3   Type                    6298 non-null   object \n",
      " 4   Country                 6252 non-null   object \n",
      " 5   Area                    5847 non-null   object \n",
      " 6   Location                5762 non-null   object \n",
      " 7   Activity                5758 non-null   object \n",
      " 8   Name                    6092 non-null   object \n",
      " 9   Sex                     5737 non-null   object \n",
      " 10  Age                     3471 non-null   object \n",
      " 11  Injury                  6274 non-null   object \n",
      " 12  Fatal (Y/N)             5763 non-null   object \n",
      " 13  Time                    2948 non-null   object \n",
      " 14  Species                 3464 non-null   object \n",
      " 15  Investigator or Source  6285 non-null   object \n",
      " 16  pdf                     6302 non-null   object \n",
      " 17  href formula            6301 non-null   object \n",
      " 18  href                    6302 non-null   object \n",
      " 19  Case Number.1           6302 non-null   object \n",
      " 20  Case Number.2           6302 non-null   object \n",
      " 21  original order          6309 non-null   float64\n",
      " 22  Unnamed: 22             1 non-null      object \n",
      " 23  Unnamed: 23             2 non-null      object \n",
      "dtypes: float64(2), object(22)\n",
      "memory usage: 4.7+ MB\n"
     ]
    }
   ],
   "source": [
    "df.info()"
   ]
  },
  {
   "cell_type": "markdown",
   "metadata": {},
   "source": [
    "## DATASET CLEANING"
   ]
  },
  {
   "cell_type": "markdown",
   "metadata": {},
   "source": [
    "### Cleaning of columns"
   ]
  },
  {
   "cell_type": "markdown",
   "metadata": {},
   "source": [
    "First I am going to clean column names and avoid spaces and capital letters."
   ]
  },
  {
   "cell_type": "code",
   "execution_count": 8,
   "metadata": {},
   "outputs": [
    {
     "data": {
      "text/plain": [
       "Index(['Case Number', 'Date', 'Year', 'Type', 'Country', 'Area', 'Location',\n",
       "       'Activity', 'Name', 'Sex ', 'Age', 'Injury', 'Fatal (Y/N)', 'Time',\n",
       "       'Species ', 'Investigator or Source', 'pdf', 'href formula', 'href',\n",
       "       'Case Number.1', 'Case Number.2', 'original order', 'Unnamed: 22',\n",
       "       'Unnamed: 23'],\n",
       "      dtype='object')"
      ]
     },
     "execution_count": 8,
     "metadata": {},
     "output_type": "execute_result"
    }
   ],
   "source": [
    "df.columns"
   ]
  },
  {
   "cell_type": "code",
   "execution_count": 9,
   "metadata": {},
   "outputs": [],
   "source": [
    "col_names_fixed = list(map(mfc.clean_col_names,list(df.columns)))\n"
   ]
  },
  {
   "cell_type": "code",
   "execution_count": 10,
   "metadata": {},
   "outputs": [],
   "source": [
    "rename_col_dict = {col: col_names_fixed[i] for i, col in enumerate(df.columns)}"
   ]
  },
  {
   "cell_type": "code",
   "execution_count": 11,
   "metadata": {},
   "outputs": [
    {
     "name": "stdout",
     "output_type": "stream",
     "text": [
      "{'Case Number': 'case_number', 'Date': 'date', 'Year': 'year', 'Type': 'type', 'Country': 'country', 'Area': 'area', 'Location': 'location', 'Activity': 'activity', 'Name': 'name', 'Sex ': 'sex', 'Age': 'age', 'Injury': 'injury', 'Fatal (Y/N)': 'fatal', 'Time': 'time', 'Species ': 'species', 'Investigator or Source': 'investigator_or_source', 'pdf': 'pdf', 'href formula': 'href_formula', 'href': 'href', 'Case Number.1': 'case_number.1', 'Case Number.2': 'case_number.2', 'original order': 'original_order', 'Unnamed: 22': 'unnamed:_22', 'Unnamed: 23': 'unnamed:_23'}\n"
     ]
    }
   ],
   "source": [
    "print(rename_col_dict)"
   ]
  },
  {
   "cell_type": "code",
   "execution_count": 12,
   "metadata": {},
   "outputs": [],
   "source": [
    "df = df.rename(columns = rename_col_dict )"
   ]
  },
  {
   "cell_type": "code",
   "execution_count": 13,
   "metadata": {
    "scrolled": true
   },
   "outputs": [
    {
     "data": {
      "text/plain": [
       "Index(['case_number', 'date', 'year', 'type', 'country', 'area', 'location',\n",
       "       'activity', 'name', 'sex', 'age', 'injury', 'fatal', 'time', 'species',\n",
       "       'investigator_or_source', 'pdf', 'href_formula', 'href',\n",
       "       'case_number.1', 'case_number.2', 'original_order', 'unnamed:_22',\n",
       "       'unnamed:_23'],\n",
       "      dtype='object')"
      ]
     },
     "execution_count": 13,
     "metadata": {},
     "output_type": "execute_result"
    }
   ],
   "source": [
    "df.columns"
   ]
  },
  {
   "cell_type": "markdown",
   "metadata": {},
   "source": [
    "### Discard of columns"
   ]
  },
  {
   "cell_type": "markdown",
   "metadata": {},
   "source": [
    "Based on brief exploration, there seems to be a lot of columns with very little use of no use at all.\n",
    "Also it seems this dataset was created by merge of two subdatasets, based on the columns Case Number.1 and Case Number2.\n"
   ]
  },
  {
   "cell_type": "markdown",
   "metadata": {},
   "source": [
    "Now let's make a first discard and keep only the columns we may end up finding a use of it."
   ]
  },
  {
   "cell_type": "code",
   "execution_count": 14,
   "metadata": {},
   "outputs": [],
   "source": [
    "df = df[['case_number','date', 'year', 'type', 'country', 'area', 'location',\n",
    "       'activity', 'name', 'sex', 'age', 'injury', 'fatal', 'time', 'species']]"
   ]
  },
  {
   "cell_type": "code",
   "execution_count": 15,
   "metadata": {
    "scrolled": false
   },
   "outputs": [
    {
     "data": {
      "text/plain": [
       "(25723, 15)"
      ]
     },
     "execution_count": 15,
     "metadata": {},
     "output_type": "execute_result"
    }
   ],
   "source": [
    "df.shape"
   ]
  },
  {
   "cell_type": "markdown",
   "metadata": {},
   "source": [
    "### Discard rows with no information"
   ]
  },
  {
   "cell_type": "markdown",
   "metadata": {},
   "source": [
    "I've noticed when looking at the sample above, that some entries have no values at all (i.e. values as NaN). \n",
    "Let's remove those."
   ]
  },
  {
   "cell_type": "markdown",
   "metadata": {},
   "source": [
    "But first I define as NaN values in column case_number which are in fact NaN but comes with info as '0' or 'xx'"
   ]
  },
  {
   "cell_type": "code",
   "execution_count": 16,
   "metadata": {},
   "outputs": [
    {
     "data": {
      "text/plain": [
       "array(['2018.06.25', '2018.06.18', '2018.06.09', ..., 'ND.0001', '0',\n",
       "       'xx'], dtype=object)"
      ]
     },
     "execution_count": 16,
     "metadata": {},
     "output_type": "execute_result"
    }
   ],
   "source": [
    "df.case_number.unique()"
   ]
  },
  {
   "cell_type": "code",
   "execution_count": 17,
   "metadata": {},
   "outputs": [],
   "source": [
    "df.case_number = df.case_number.apply(lambda x: np.NaN if (str(x) == '0') or (str(x) == 'xx') else x)"
   ]
  },
  {
   "cell_type": "code",
   "execution_count": 18,
   "metadata": {},
   "outputs": [],
   "source": [
    "df = df.dropna(axis = 0, how = 'all')"
   ]
  },
  {
   "cell_type": "code",
   "execution_count": 19,
   "metadata": {},
   "outputs": [
    {
     "data": {
      "text/plain": [
       "(6302, 15)"
      ]
     },
     "execution_count": 19,
     "metadata": {},
     "output_type": "execute_result"
    }
   ],
   "source": [
    "df.shape"
   ]
  },
  {
   "cell_type": "markdown",
   "metadata": {},
   "source": [
    "### Country"
   ]
  },
  {
   "cell_type": "markdown",
   "metadata": {},
   "source": [
    "Since my study will be focused only on US and Australia, I filter the dataframe by those countries.\n",
    "Entry countries seems to be quite well and no clean needed for USA and Australia cases."
   ]
  },
  {
   "cell_type": "code",
   "execution_count": 20,
   "metadata": {},
   "outputs": [
    {
     "data": {
      "text/plain": [
       "array(['USA', 'AUSTRALIA', 'MEXICO', 'BRAZIL', 'ENGLAND', 'SOUTH AFRICA',\n",
       "       'THAILAND', 'COSTA RICA', 'MALDIVES', 'BAHAMAS', 'NEW CALEDONIA',\n",
       "       'ECUADOR', 'MALAYSIA', 'LIBYA', nan, 'CUBA', 'MAURITIUS',\n",
       "       'NEW ZEALAND', 'SPAIN', 'SAMOA', 'SOLOMON ISLANDS', 'JAPAN',\n",
       "       'EGYPT', 'ST HELENA, British overseas territory', 'COMOROS',\n",
       "       'REUNION', 'FRENCH POLYNESIA', 'UNITED KINGDOM',\n",
       "       'UNITED ARAB EMIRATES', 'PHILIPPINES', 'INDONESIA', 'CHINA',\n",
       "       'COLUMBIA', 'CAPE VERDE', 'Fiji', 'DOMINICAN REPUBLIC',\n",
       "       'CAYMAN ISLANDS', 'ARUBA', 'MOZAMBIQUE', 'FIJI', 'PUERTO RICO',\n",
       "       'ITALY', 'ATLANTIC OCEAN', 'GREECE', 'ST. MARTIN', 'FRANCE',\n",
       "       'PAPUA NEW GUINEA', 'TRINIDAD & TOBAGO', 'KIRIBATI', 'ISRAEL',\n",
       "       'DIEGO GARCIA', 'TAIWAN', 'JAMAICA', 'PALESTINIAN TERRITORIES',\n",
       "       'GUAM', 'SEYCHELLES', 'BELIZE', 'NIGERIA', 'TONGA', 'SCOTLAND',\n",
       "       'CANADA', 'CROATIA', 'SAUDI ARABIA', 'CHILE', 'ANTIGUA', 'KENYA',\n",
       "       'RUSSIA', 'TURKS & CAICOS', 'UNITED ARAB EMIRATES (UAE)', 'AZORES',\n",
       "       'SOUTH KOREA', 'MALTA', 'VIETNAM', 'MADAGASCAR', 'PANAMA',\n",
       "       'SOMALIA', 'NEVIS', 'BRITISH VIRGIN ISLANDS', 'NORWAY', 'SENEGAL',\n",
       "       'YEMEN', 'GULF OF ADEN', 'Sierra Leone', 'ST. MAARTIN',\n",
       "       'GRAND CAYMAN', 'Seychelles', 'LIBERIA', 'VANUATU', 'MEXICO ',\n",
       "       'HONDURAS', 'VENEZUELA', 'SRI LANKA', ' TONGA', 'URUGUAY', 'INDIA',\n",
       "       'MICRONESIA', 'CARIBBEAN SEA', 'OKINAWA', 'TANZANIA',\n",
       "       'MARSHALL ISLANDS', 'EGYPT / ISRAEL', 'NORTHERN ARABIAN SEA',\n",
       "       'HONG KONG', 'EL SALVADOR', 'ANGOLA', 'BERMUDA', 'MONTENEGRO',\n",
       "       'IRAN', 'TUNISIA', 'NAMIBIA', 'NORTH ATLANTIC OCEAN', 'PORTUGAL',\n",
       "       'SOUTH CHINA SEA', 'BANGLADESH', 'PALAU', 'WESTERN SAMOA',\n",
       "       'PACIFIC OCEAN ', 'BRITISH ISLES', 'GRENADA', 'IRAQ', 'TURKEY',\n",
       "       'SINGAPORE', 'NEW BRITAIN', 'SUDAN', 'JOHNSTON ISLAND',\n",
       "       'SOUTH PACIFIC OCEAN', 'NEW GUINEA', 'RED SEA',\n",
       "       'NORTH PACIFIC OCEAN', 'FEDERATED STATES OF MICRONESIA',\n",
       "       'MID ATLANTIC OCEAN', 'ADMIRALTY ISLANDS', 'BRITISH WEST INDIES',\n",
       "       'SOUTH ATLANTIC OCEAN', 'PERSIAN GULF', 'RED SEA / INDIAN OCEAN',\n",
       "       'PACIFIC OCEAN', 'NORTH SEA', 'NICARAGUA ', 'MALDIVE ISLANDS',\n",
       "       'AMERICAN SAMOA', 'ANDAMAN / NICOBAR ISLANDAS', 'GABON', 'MAYOTTE',\n",
       "       'NORTH ATLANTIC OCEAN ', 'THE BALKANS', 'SUDAN?', 'ARGENTINA',\n",
       "       'MARTINIQUE', 'INDIAN OCEAN', 'GUATEMALA', 'NETHERLANDS ANTILLES',\n",
       "       'NORTHERN MARIANA ISLANDS', 'IRAN / IRAQ', 'JAVA', 'SIERRA LEONE',\n",
       "       ' PHILIPPINES', 'NICARAGUA', 'CENTRAL PACIFIC',\n",
       "       'SOLOMON ISLANDS / VANUATU', 'SOUTHWEST PACIFIC OCEAN',\n",
       "       'BAY OF BENGAL', 'MID-PACIFC OCEAN', 'SLOVENIA', 'CURACAO',\n",
       "       'ICELAND', 'ITALY / CROATIA', 'BARBADOS', 'MONACO', 'GUYANA',\n",
       "       'HAITI', 'SAN DOMINGO', 'IRELAND', 'KUWAIT', 'YEMEN ',\n",
       "       'REUNION ISLAND', 'FALKLAND ISLANDS', 'CRETE', 'CYPRUS', 'EGYPT ',\n",
       "       'WEST INDIES', 'BURMA', 'LEBANON', 'PARAGUAY',\n",
       "       'BRITISH NEW GUINEA', 'CEYLON', 'OCEAN', 'GEORGIA', 'SYRIA',\n",
       "       'TUVALU', 'INDIAN OCEAN?', 'GUINEA', 'ANDAMAN ISLANDS',\n",
       "       'EQUATORIAL GUINEA / CAMEROON', 'COOK ISLANDS', 'TOBAGO', 'PERU',\n",
       "       'AFRICA', 'ALGERIA', 'Coast of AFRICA', 'TASMAN SEA', 'GHANA',\n",
       "       'GREENLAND', 'MEDITERRANEAN SEA', 'SWEDEN', 'ROATAN',\n",
       "       'Between PORTUGAL & INDIA', 'DJIBOUTI', 'BAHREIN', 'KOREA',\n",
       "       'RED SEA?', 'ASIA?', 'CEYLON (SRI LANKA)'], dtype=object)"
      ]
     },
     "execution_count": 20,
     "metadata": {},
     "output_type": "execute_result"
    }
   ],
   "source": [
    "df.country.unique()"
   ]
  },
  {
   "cell_type": "code",
   "execution_count": 21,
   "metadata": {},
   "outputs": [],
   "source": [
    "df = df[(df.country == 'USA') | (df.country == 'AUSTRALIA')]"
   ]
  },
  {
   "cell_type": "code",
   "execution_count": 22,
   "metadata": {},
   "outputs": [
    {
     "data": {
      "text/html": [
       "<div>\n",
       "<style scoped>\n",
       "    .dataframe tbody tr th:only-of-type {\n",
       "        vertical-align: middle;\n",
       "    }\n",
       "\n",
       "    .dataframe tbody tr th {\n",
       "        vertical-align: top;\n",
       "    }\n",
       "\n",
       "    .dataframe thead th {\n",
       "        text-align: right;\n",
       "    }\n",
       "</style>\n",
       "<table border=\"1\" class=\"dataframe\">\n",
       "  <thead>\n",
       "    <tr style=\"text-align: right;\">\n",
       "      <th></th>\n",
       "      <th>case_number</th>\n",
       "      <th>date</th>\n",
       "      <th>year</th>\n",
       "      <th>type</th>\n",
       "      <th>country</th>\n",
       "      <th>area</th>\n",
       "      <th>location</th>\n",
       "      <th>activity</th>\n",
       "      <th>name</th>\n",
       "      <th>sex</th>\n",
       "      <th>age</th>\n",
       "      <th>injury</th>\n",
       "      <th>fatal</th>\n",
       "      <th>time</th>\n",
       "      <th>species</th>\n",
       "    </tr>\n",
       "  </thead>\n",
       "  <tbody>\n",
       "    <tr>\n",
       "      <th>0</th>\n",
       "      <td>2018.06.25</td>\n",
       "      <td>25-Jun-2018</td>\n",
       "      <td>2018.0</td>\n",
       "      <td>Boating</td>\n",
       "      <td>USA</td>\n",
       "      <td>California</td>\n",
       "      <td>Oceanside, San Diego County</td>\n",
       "      <td>Paddling</td>\n",
       "      <td>Julie Wolfe</td>\n",
       "      <td>F</td>\n",
       "      <td>57</td>\n",
       "      <td>No injury to occupant, outrigger canoe and pad...</td>\n",
       "      <td>N</td>\n",
       "      <td>18h00</td>\n",
       "      <td>White shark</td>\n",
       "    </tr>\n",
       "    <tr>\n",
       "      <th>1</th>\n",
       "      <td>2018.06.18</td>\n",
       "      <td>18-Jun-2018</td>\n",
       "      <td>2018.0</td>\n",
       "      <td>Unprovoked</td>\n",
       "      <td>USA</td>\n",
       "      <td>Georgia</td>\n",
       "      <td>St. Simon Island, Glynn County</td>\n",
       "      <td>Standing</td>\n",
       "      <td>Adyson McNeely</td>\n",
       "      <td>F</td>\n",
       "      <td>11</td>\n",
       "      <td>Minor injury to left thigh</td>\n",
       "      <td>N</td>\n",
       "      <td>14h00  -15h00</td>\n",
       "      <td>NaN</td>\n",
       "    </tr>\n",
       "    <tr>\n",
       "      <th>2</th>\n",
       "      <td>2018.06.09</td>\n",
       "      <td>09-Jun-2018</td>\n",
       "      <td>2018.0</td>\n",
       "      <td>Invalid</td>\n",
       "      <td>USA</td>\n",
       "      <td>Hawaii</td>\n",
       "      <td>Habush, Oahu</td>\n",
       "      <td>Surfing</td>\n",
       "      <td>John Denges</td>\n",
       "      <td>M</td>\n",
       "      <td>48</td>\n",
       "      <td>Injury to left lower leg from surfboard skeg</td>\n",
       "      <td>N</td>\n",
       "      <td>07h45</td>\n",
       "      <td>NaN</td>\n",
       "    </tr>\n",
       "    <tr>\n",
       "      <th>3</th>\n",
       "      <td>2018.06.08</td>\n",
       "      <td>08-Jun-2018</td>\n",
       "      <td>2018.0</td>\n",
       "      <td>Unprovoked</td>\n",
       "      <td>AUSTRALIA</td>\n",
       "      <td>New South Wales</td>\n",
       "      <td>Arrawarra Headland</td>\n",
       "      <td>Surfing</td>\n",
       "      <td>male</td>\n",
       "      <td>M</td>\n",
       "      <td>NaN</td>\n",
       "      <td>Minor injury to lower leg</td>\n",
       "      <td>N</td>\n",
       "      <td>NaN</td>\n",
       "      <td>2 m shark</td>\n",
       "    </tr>\n",
       "    <tr>\n",
       "      <th>5</th>\n",
       "      <td>2018.06.03.b</td>\n",
       "      <td>03-Jun-2018</td>\n",
       "      <td>2018.0</td>\n",
       "      <td>Unprovoked</td>\n",
       "      <td>AUSTRALIA</td>\n",
       "      <td>New South Wales</td>\n",
       "      <td>Flat Rock, Ballina</td>\n",
       "      <td>Kite surfing</td>\n",
       "      <td>Chris …</td>\n",
       "      <td>M</td>\n",
       "      <td>NaN</td>\n",
       "      <td>No injury, board bitten</td>\n",
       "      <td>N</td>\n",
       "      <td>NaN</td>\n",
       "      <td>NaN</td>\n",
       "    </tr>\n",
       "  </tbody>\n",
       "</table>\n",
       "</div>"
      ],
      "text/plain": [
       "    case_number         date    year        type    country             area  \\\n",
       "0    2018.06.25  25-Jun-2018  2018.0     Boating        USA       California   \n",
       "1    2018.06.18  18-Jun-2018  2018.0  Unprovoked        USA          Georgia   \n",
       "2    2018.06.09  09-Jun-2018  2018.0     Invalid        USA           Hawaii   \n",
       "3    2018.06.08  08-Jun-2018  2018.0  Unprovoked  AUSTRALIA  New South Wales   \n",
       "5  2018.06.03.b  03-Jun-2018  2018.0  Unprovoked  AUSTRALIA  New South Wales   \n",
       "\n",
       "                         location      activity             name sex  age  \\\n",
       "0     Oceanside, San Diego County      Paddling      Julie Wolfe   F   57   \n",
       "1  St. Simon Island, Glynn County      Standing  Adyson McNeely    F   11   \n",
       "2                    Habush, Oahu       Surfing      John Denges   M   48   \n",
       "3              Arrawarra Headland       Surfing             male   M  NaN   \n",
       "5              Flat Rock, Ballina  Kite surfing          Chris …   M  NaN   \n",
       "\n",
       "                                              injury fatal           time  \\\n",
       "0  No injury to occupant, outrigger canoe and pad...     N          18h00   \n",
       "1                         Minor injury to left thigh     N  14h00  -15h00   \n",
       "2       Injury to left lower leg from surfboard skeg     N          07h45   \n",
       "3                          Minor injury to lower leg     N            NaN   \n",
       "5                            No injury, board bitten     N            NaN   \n",
       "\n",
       "       species  \n",
       "0  White shark  \n",
       "1          NaN  \n",
       "2          NaN  \n",
       "3    2 m shark  \n",
       "5          NaN  "
      ]
     },
     "execution_count": 22,
     "metadata": {},
     "output_type": "execute_result"
    }
   ],
   "source": [
    "df.head()"
   ]
  },
  {
   "cell_type": "code",
   "execution_count": 23,
   "metadata": {},
   "outputs": [
    {
     "data": {
      "text/plain": [
       "(3567, 15)"
      ]
     },
     "execution_count": 23,
     "metadata": {},
     "output_type": "execute_result"
    }
   ],
   "source": [
    "df.shape"
   ]
  },
  {
   "cell_type": "markdown",
   "metadata": {},
   "source": [
    "### Date information"
   ]
  },
  {
   "cell_type": "markdown",
   "metadata": {},
   "source": [
    "Let's create a new column showing the month. \n",
    "    "
   ]
  },
  {
   "cell_type": "code",
   "execution_count": 24,
   "metadata": {},
   "outputs": [],
   "source": [
    "df['month']=df.apply(mfc.get_month, axis=1)"
   ]
  },
  {
   "cell_type": "markdown",
   "metadata": {},
   "source": [
    "In addition to this, let's complete the year info.\n",
    "\n",
    "Let's clean and fill the cases with year 0 with the best estimates by looking at the column date.\n",
    "\n",
    "    For example if column 'date' says 'Before 1943', year is estimated as 1943.\n",
    "    If column 'date' says 1900-1904, year is estimated as 1902."
   ]
  },
  {
   "cell_type": "code",
   "execution_count": 25,
   "metadata": {},
   "outputs": [
    {
     "data": {
      "text/plain": [
       "7.0     406\n",
       "8.0     374\n",
       "9.0     355\n",
       "6.0     306\n",
       "10.0    295\n",
       "4.0     270\n",
       "1.0     260\n",
       "11.0    249\n",
       "12.0    249\n",
       "3.0     223\n",
       "5.0     213\n",
       "2.0     208\n",
       "Name: month, dtype: int64"
      ]
     },
     "execution_count": 25,
     "metadata": {},
     "output_type": "execute_result"
    }
   ],
   "source": [
    "df.month.value_counts()"
   ]
  },
  {
   "cell_type": "code",
   "execution_count": 26,
   "metadata": {},
   "outputs": [
    {
     "data": {
      "text/plain": [
       "array([2018., 2017.,   nan, 2016., 2015., 2014., 2013., 2012., 2011.,\n",
       "       2010., 2009., 2008., 2007., 2006., 2005., 2004., 2003., 2002.,\n",
       "       2001., 2000., 1999., 1998., 1997., 1996., 1995., 1994., 1993.,\n",
       "       1992., 1991., 1990., 1989., 1988., 1987., 1986., 1985., 1984.,\n",
       "       1983., 1982., 1981., 1980., 1979., 1978., 1977., 1976., 1975.,\n",
       "       1974., 1973., 1972., 1971., 1970., 1969., 1968., 1967., 1966.,\n",
       "       1965., 1964., 1963., 1962., 1961., 1960., 1959., 1958., 1957.,\n",
       "       1956., 1955., 1954., 1953., 1952., 1951., 1950., 1949., 1948.,\n",
       "       1947., 1946., 1945., 1944., 1943., 1942., 1941., 1940., 1939.,\n",
       "       1938., 1937., 1936., 1935., 1934., 1933., 1932., 1931., 1930.,\n",
       "       1929., 1928., 1927., 1926., 1925., 1924., 1923., 1922., 1921.,\n",
       "       1920., 1919., 1918., 1917., 1916., 1915., 1914., 1913., 1912.,\n",
       "       1911., 1910., 1909., 1908., 1907., 1906., 1905., 1904., 1903.,\n",
       "       1902., 1901., 1900., 1899., 1898., 1897., 1896., 1895., 1894.,\n",
       "       1893., 1892., 1891., 1890., 1889., 1888., 1887., 1886., 1885.,\n",
       "       1884., 1883., 1882., 1881., 1880., 1879., 1878., 1877., 1876.,\n",
       "       1875., 1874., 1873., 1872., 1871., 1870., 1869., 1868., 1867.,\n",
       "       1866., 1865., 1864., 1863., 1862., 1861., 1860., 1859., 1858.,\n",
       "       1857., 1856., 1855., 1853., 1852., 1851., 1850., 1849., 1848.,\n",
       "       1847., 1845., 1842., 1841., 1840., 1839., 1837., 1836., 1832.,\n",
       "       1831., 1830., 1829., 1828., 1825., 1817., 1816., 1810., 1807.,\n",
       "       1805., 1804., 1803., 1791., 1788., 1780., 1779., 1771., 1751.,\n",
       "       1642.,    5.,    0.])"
      ]
     },
     "execution_count": 26,
     "metadata": {},
     "output_type": "execute_result"
    }
   ],
   "source": [
    "df.year.unique()"
   ]
  },
  {
   "cell_type": "code",
   "execution_count": 27,
   "metadata": {},
   "outputs": [],
   "source": [
    "df['year_clean'] = df.apply(lambda x: mfc.clean_year(x), axis=1)"
   ]
  },
  {
   "cell_type": "code",
   "execution_count": 28,
   "metadata": {},
   "outputs": [
    {
     "data": {
      "text/plain": [
       "array([2018, 2017, 2016, 2015, 2014, 2013, 2012, 2011, 2010, 2009, 2008,\n",
       "       2007, 2006, 2005, 2004, 2003, 2002, 2001, 2000, 1999, 1998, 1997,\n",
       "       1996, 1995, 1994, 1993, 1992, 1991, 1990, 1989, 1988, 1987, 1986,\n",
       "       1985, 1984, 1983, 1982, 1981, 1980, 1979, 1978, 1977, 1976, 1975,\n",
       "       1974, 1973, 1972, 1971, 1970, 1969, 1968, 1967, 1966, 1965, 1964,\n",
       "       1963, 1962, 1961, 1960, 1959, 1958, 1957, 1956, 1955, 1954, 1953,\n",
       "       1952, 1951, 1950, 1949, 1948, 1947, 1946, 1945, 1944, 1943, 1942,\n",
       "       1941, 1940, 1939, 1938, 1937, 1936, 1935, 1934, 1933, 1932, 1931,\n",
       "       1930, 1929, 1928, 1927, 1926, 1925, 1924, 1923, 1922, 1921, 1920,\n",
       "       1919, 1918, 1917, 1916, 1915, 1914, 1913, 1912, 1911, 1910, 1909,\n",
       "       1908, 1907, 1906, 1905, 1904, 1903, 1902, 1901, 1900, 1899, 1898,\n",
       "       1897, 1896, 1895, 1894, 1893, 1892, 1891, 1890, 1889, 1888, 1887,\n",
       "       1886, 1885, 1884, 1883, 1882, 1881, 1880, 1879, 1878, 1877, 1876,\n",
       "       1875, 1874, 1873, 1872, 1871, 1870, 1869, 1868, 1867, 1866, 1865,\n",
       "       1864, 1863, 1862, 1861, 1860, 1859, 1858, 1857, 1856, 1855, 1853,\n",
       "       1852, 1851, 1850, 1849, 1848, 1847, 1845, 1842, 1841, 1840, 1839,\n",
       "       1837, 1836, 1832, 1831, 1830, 1829, 1828, 1825, 1817, 1816, 1810,\n",
       "       1807, 1805, 1804, 1803, 1791, 1788, 1780, 1779, 1771, 1751, 1642,\n",
       "          5])"
      ]
     },
     "execution_count": 28,
     "metadata": {},
     "output_type": "execute_result"
    }
   ],
   "source": [
    "df.year_clean.unique()"
   ]
  },
  {
   "cell_type": "markdown",
   "metadata": {},
   "source": [
    "### Type column"
   ]
  },
  {
   "cell_type": "markdown",
   "metadata": {},
   "source": [
    "According to info from source:\n",
    "http://www.sharkattackfile.net/incidentlog.htm\n",
    "\n",
    "Incidents related to boats are considered unprovoked. \n",
    "Likewise, we can considered sea disasters as not clear whether was provoked or not. \n",
    "\n",
    "But first, let's take a look at the type 'Invalid'.\n"
   ]
  },
  {
   "cell_type": "code",
   "execution_count": 29,
   "metadata": {},
   "outputs": [
    {
     "data": {
      "text/html": [
       "<div>\n",
       "<style scoped>\n",
       "    .dataframe tbody tr th:only-of-type {\n",
       "        vertical-align: middle;\n",
       "    }\n",
       "\n",
       "    .dataframe tbody tr th {\n",
       "        vertical-align: top;\n",
       "    }\n",
       "\n",
       "    .dataframe thead th {\n",
       "        text-align: right;\n",
       "    }\n",
       "</style>\n",
       "<table border=\"1\" class=\"dataframe\">\n",
       "  <thead>\n",
       "    <tr style=\"text-align: right;\">\n",
       "      <th></th>\n",
       "      <th>case_number</th>\n",
       "      <th>date</th>\n",
       "      <th>year</th>\n",
       "      <th>type</th>\n",
       "      <th>country</th>\n",
       "      <th>area</th>\n",
       "      <th>location</th>\n",
       "      <th>activity</th>\n",
       "      <th>name</th>\n",
       "      <th>sex</th>\n",
       "      <th>age</th>\n",
       "      <th>injury</th>\n",
       "      <th>fatal</th>\n",
       "      <th>time</th>\n",
       "      <th>species</th>\n",
       "      <th>month</th>\n",
       "      <th>year_clean</th>\n",
       "    </tr>\n",
       "  </thead>\n",
       "  <tbody>\n",
       "    <tr>\n",
       "      <th>721</th>\n",
       "      <td>2012.11.27</td>\n",
       "      <td>27-Nov-2012</td>\n",
       "      <td>2012.0</td>\n",
       "      <td>Invalid</td>\n",
       "      <td>AUSTRALIA</td>\n",
       "      <td>Queensland</td>\n",
       "      <td>Mooloolaba</td>\n",
       "      <td>NaN</td>\n",
       "      <td>NaN</td>\n",
       "      <td>M</td>\n",
       "      <td>20</td>\n",
       "      <td>Injury to ankle caused  by a stingray, not a s...</td>\n",
       "      <td>NaN</td>\n",
       "      <td>14h50</td>\n",
       "      <td>No shark involvement</td>\n",
       "      <td>11.0</td>\n",
       "      <td>2012</td>\n",
       "    </tr>\n",
       "    <tr>\n",
       "      <th>1069</th>\n",
       "      <td>2009.11.25</td>\n",
       "      <td>25-Nov-2009</td>\n",
       "      <td>2009.0</td>\n",
       "      <td>Invalid</td>\n",
       "      <td>USA</td>\n",
       "      <td>California</td>\n",
       "      <td>Huntington Beach, Orange County</td>\n",
       "      <td>Surfing</td>\n",
       "      <td>Kenneth Hall</td>\n",
       "      <td>M</td>\n",
       "      <td>49</td>\n",
       "      <td>Puncture wounds to right foot</td>\n",
       "      <td>NaN</td>\n",
       "      <td>15h30</td>\n",
       "      <td>Shark involvement not confirmed</td>\n",
       "      <td>11.0</td>\n",
       "      <td>2009</td>\n",
       "    </tr>\n",
       "    <tr>\n",
       "      <th>5454</th>\n",
       "      <td>1907.07.04.R</td>\n",
       "      <td>Reported 04-Jul-1907</td>\n",
       "      <td>1907.0</td>\n",
       "      <td>Invalid</td>\n",
       "      <td>AUSTRALIA</td>\n",
       "      <td>Queensland</td>\n",
       "      <td>Karra Garra</td>\n",
       "      <td>.</td>\n",
       "      <td>Dick Atkins</td>\n",
       "      <td>M</td>\n",
       "      <td>NaN</td>\n",
       "      <td>Disappeared, but shark involvement unconfirmed</td>\n",
       "      <td>NaN</td>\n",
       "      <td>NaN</td>\n",
       "      <td>Questionable</td>\n",
       "      <td>7.0</td>\n",
       "      <td>1907</td>\n",
       "    </tr>\n",
       "    <tr>\n",
       "      <th>1240</th>\n",
       "      <td>2008.06.28.c</td>\n",
       "      <td>28-Jun-2008</td>\n",
       "      <td>2008.0</td>\n",
       "      <td>Invalid</td>\n",
       "      <td>USA</td>\n",
       "      <td>Hawaii</td>\n",
       "      <td>Kamilo Point, Hawai'i</td>\n",
       "      <td>Wading</td>\n",
       "      <td>Nathan Labarios</td>\n",
       "      <td>M</td>\n",
       "      <td>53</td>\n",
       "      <td>Probable drowning with post-mortem bites</td>\n",
       "      <td>NaN</td>\n",
       "      <td>Afternoon</td>\n",
       "      <td>Shark involvement prior to death not confirmed</td>\n",
       "      <td>6.0</td>\n",
       "      <td>2008</td>\n",
       "    </tr>\n",
       "    <tr>\n",
       "      <th>1557</th>\n",
       "      <td>2005.08.22</td>\n",
       "      <td>22-Aug-2005</td>\n",
       "      <td>2005.0</td>\n",
       "      <td>Invalid</td>\n",
       "      <td>USA</td>\n",
       "      <td>South Carolina</td>\n",
       "      <td>6th Avenue North, Myrtle Beach, Horry County</td>\n",
       "      <td>Boogie boarding, kicked at object in the water</td>\n",
       "      <td>Nicholas House</td>\n",
       "      <td>M</td>\n",
       "      <td>17</td>\n",
       "      <td>Laceration to knee, possibly by a  small black...</td>\n",
       "      <td>NaN</td>\n",
       "      <td>Afternoon</td>\n",
       "      <td>Shark involvement not confirmed</td>\n",
       "      <td>8.0</td>\n",
       "      <td>2005</td>\n",
       "    </tr>\n",
       "    <tr>\n",
       "      <th>6071</th>\n",
       "      <td>1839.11.17</td>\n",
       "      <td>17-Nov-1839</td>\n",
       "      <td>1839.0</td>\n",
       "      <td>Invalid</td>\n",
       "      <td>AUSTRALIA</td>\n",
       "      <td>New South Wales</td>\n",
       "      <td>NaN</td>\n",
       "      <td>NaN</td>\n",
       "      <td>Mr.Johnson (male)</td>\n",
       "      <td>M</td>\n",
       "      <td>NaN</td>\n",
       "      <td>\"Drowned, 2 days later his head was bitten off...</td>\n",
       "      <td>NaN</td>\n",
       "      <td>NaN</td>\n",
       "      <td>NaN</td>\n",
       "      <td>11.0</td>\n",
       "      <td>1839</td>\n",
       "    </tr>\n",
       "    <tr>\n",
       "      <th>3986</th>\n",
       "      <td>1960.06.07</td>\n",
       "      <td>07-Jun-1960</td>\n",
       "      <td>1960.0</td>\n",
       "      <td>Invalid</td>\n",
       "      <td>USA</td>\n",
       "      <td>California</td>\n",
       "      <td>10 miles off Santa Barbara, Santa Barbara County</td>\n",
       "      <td>Testing classified underwater electronic gear ...</td>\n",
       "      <td>Paul Timothy Lovette, Dr. Neal Beardsley, Jame...</td>\n",
       "      <td>M</td>\n",
       "      <td>37, 67, 35, 27,  ? &amp; 27</td>\n",
       "      <td>Legs &amp; arms bitten, coroner unable to determin...</td>\n",
       "      <td>NaN</td>\n",
       "      <td>NaN</td>\n",
       "      <td>Shark involvement prior to death was not confi...</td>\n",
       "      <td>6.0</td>\n",
       "      <td>1960</td>\n",
       "    </tr>\n",
       "    <tr>\n",
       "      <th>5805</th>\n",
       "      <td>1881.11.13</td>\n",
       "      <td>13-Nov-1881</td>\n",
       "      <td>1881.0</td>\n",
       "      <td>Invalid</td>\n",
       "      <td>AUSTRALIA</td>\n",
       "      <td>New South Wales</td>\n",
       "      <td>Johnstone's Bay, Sydney</td>\n",
       "      <td>Swimming</td>\n",
       "      <td>John Sullivan</td>\n",
       "      <td>M</td>\n",
       "      <td>NaN</td>\n",
       "      <td>Shark involvement suspected but not confirmed</td>\n",
       "      <td>NaN</td>\n",
       "      <td>Evening</td>\n",
       "      <td>Shark involvement prior to death unconfirmed</td>\n",
       "      <td>11.0</td>\n",
       "      <td>1881</td>\n",
       "    </tr>\n",
       "    <tr>\n",
       "      <th>5218</th>\n",
       "      <td>1922.10.29</td>\n",
       "      <td>29-Oct-1922</td>\n",
       "      <td>1922.0</td>\n",
       "      <td>Invalid</td>\n",
       "      <td>AUSTRALIA</td>\n",
       "      <td>New South Wales</td>\n",
       "      <td>Botany Bay, Sydney</td>\n",
       "      <td>Sailing</td>\n",
       "      <td>H.R.W.</td>\n",
       "      <td>M</td>\n",
       "      <td>NaN</td>\n",
       "      <td>FATAL, but shark involvement prior to death un...</td>\n",
       "      <td>NaN</td>\n",
       "      <td>NaN</td>\n",
       "      <td>Shark involvement prior to death unconfirmed</td>\n",
       "      <td>10.0</td>\n",
       "      <td>1922</td>\n",
       "    </tr>\n",
       "    <tr>\n",
       "      <th>4063</th>\n",
       "      <td>1959.09.02</td>\n",
       "      <td>02-Sep-1959</td>\n",
       "      <td>1959.0</td>\n",
       "      <td>Invalid</td>\n",
       "      <td>USA</td>\n",
       "      <td>New York</td>\n",
       "      <td>Oak Beach, Fire Inlet</td>\n",
       "      <td>On inflatable raft</td>\n",
       "      <td>male</td>\n",
       "      <td>M</td>\n",
       "      <td>NaN</td>\n",
       "      <td>No injury</td>\n",
       "      <td>NaN</td>\n",
       "      <td>NaN</td>\n",
       "      <td>Questionable incident</td>\n",
       "      <td>9.0</td>\n",
       "      <td>1959</td>\n",
       "    </tr>\n",
       "  </tbody>\n",
       "</table>\n",
       "</div>"
      ],
      "text/plain": [
       "       case_number                  date    year     type    country  \\\n",
       "721     2012.11.27           27-Nov-2012  2012.0  Invalid  AUSTRALIA   \n",
       "1069    2009.11.25           25-Nov-2009  2009.0  Invalid        USA   \n",
       "5454  1907.07.04.R  Reported 04-Jul-1907  1907.0  Invalid  AUSTRALIA   \n",
       "1240  2008.06.28.c           28-Jun-2008  2008.0  Invalid        USA   \n",
       "1557    2005.08.22           22-Aug-2005  2005.0  Invalid        USA   \n",
       "6071    1839.11.17           17-Nov-1839  1839.0  Invalid  AUSTRALIA   \n",
       "3986    1960.06.07           07-Jun-1960  1960.0  Invalid        USA   \n",
       "5805    1881.11.13           13-Nov-1881  1881.0  Invalid  AUSTRALIA   \n",
       "5218    1922.10.29           29-Oct-1922  1922.0  Invalid  AUSTRALIA   \n",
       "4063    1959.09.02           02-Sep-1959  1959.0  Invalid        USA   \n",
       "\n",
       "                 area                                          location  \\\n",
       "721        Queensland                                        Mooloolaba   \n",
       "1069       California                   Huntington Beach, Orange County   \n",
       "5454       Queensland                                       Karra Garra   \n",
       "1240           Hawaii                             Kamilo Point, Hawai'i   \n",
       "1557   South Carolina      6th Avenue North, Myrtle Beach, Horry County   \n",
       "6071  New South Wales                                               NaN   \n",
       "3986       California  10 miles off Santa Barbara, Santa Barbara County   \n",
       "5805  New South Wales                           Johnstone's Bay, Sydney   \n",
       "5218  New South Wales                                Botany Bay, Sydney   \n",
       "4063         New York                             Oak Beach, Fire Inlet   \n",
       "\n",
       "                                               activity  \\\n",
       "721                                                 NaN   \n",
       "1069                                            Surfing   \n",
       "5454                                                  .   \n",
       "1240                                             Wading   \n",
       "1557     Boogie boarding, kicked at object in the water   \n",
       "6071                                                NaN   \n",
       "3986  Testing classified underwater electronic gear ...   \n",
       "5805                                           Swimming   \n",
       "5218                                            Sailing   \n",
       "4063                                 On inflatable raft   \n",
       "\n",
       "                                                   name sex  \\\n",
       "721                                                 NaN   M   \n",
       "1069                                       Kenneth Hall   M   \n",
       "5454                                        Dick Atkins   M   \n",
       "1240                                    Nathan Labarios   M   \n",
       "1557                                     Nicholas House   M   \n",
       "6071                                  Mr.Johnson (male)   M   \n",
       "3986  Paul Timothy Lovette, Dr. Neal Beardsley, Jame...   M   \n",
       "5805                                      John Sullivan   M   \n",
       "5218                                             H.R.W.   M   \n",
       "4063                                               male   M   \n",
       "\n",
       "                          age  \\\n",
       "721                        20   \n",
       "1069                       49   \n",
       "5454                      NaN   \n",
       "1240                       53   \n",
       "1557                       17   \n",
       "6071                      NaN   \n",
       "3986  37, 67, 35, 27,  ? & 27   \n",
       "5805                      NaN   \n",
       "5218                      NaN   \n",
       "4063                      NaN   \n",
       "\n",
       "                                                 injury fatal       time  \\\n",
       "721   Injury to ankle caused  by a stingray, not a s...   NaN      14h50   \n",
       "1069                      Puncture wounds to right foot   NaN      15h30   \n",
       "5454     Disappeared, but shark involvement unconfirmed   NaN        NaN   \n",
       "1240           Probable drowning with post-mortem bites   NaN  Afternoon   \n",
       "1557  Laceration to knee, possibly by a  small black...   NaN  Afternoon   \n",
       "6071  \"Drowned, 2 days later his head was bitten off...   NaN        NaN   \n",
       "3986  Legs & arms bitten, coroner unable to determin...   NaN        NaN   \n",
       "5805      Shark involvement suspected but not confirmed   NaN    Evening   \n",
       "5218  FATAL, but shark involvement prior to death un...   NaN        NaN   \n",
       "4063                                          No injury   NaN        NaN   \n",
       "\n",
       "                                                species  month  year_clean  \n",
       "721                                No shark involvement   11.0        2012  \n",
       "1069                    Shark involvement not confirmed   11.0        2009  \n",
       "5454                                       Questionable    7.0        1907  \n",
       "1240     Shark involvement prior to death not confirmed    6.0        2008  \n",
       "1557                    Shark involvement not confirmed    8.0        2005  \n",
       "6071                                                NaN   11.0        1839  \n",
       "3986  Shark involvement prior to death was not confi...    6.0        1960  \n",
       "5805       Shark involvement prior to death unconfirmed   11.0        1881  \n",
       "5218       Shark involvement prior to death unconfirmed   10.0        1922  \n",
       "4063                              Questionable incident    9.0        1959  "
      ]
     },
     "execution_count": 29,
     "metadata": {},
     "output_type": "execute_result"
    }
   ],
   "source": [
    "df[df.type=='Invalid'].sample(10)"
   ]
  },
  {
   "cell_type": "markdown",
   "metadata": {},
   "source": [
    "It seems it has been registered as 'Invalid' all cases where it is quite doubtful about the involvement of a shark. Therefore, let's discard them."
   ]
  },
  {
   "cell_type": "code",
   "execution_count": 30,
   "metadata": {},
   "outputs": [],
   "source": [
    "df = df[(df.type != 'Invalid')]"
   ]
  },
  {
   "cell_type": "code",
   "execution_count": 31,
   "metadata": {},
   "outputs": [
    {
     "data": {
      "text/plain": [
       "(3255, 17)"
      ]
     },
     "execution_count": 31,
     "metadata": {},
     "output_type": "execute_result"
    }
   ],
   "source": [
    "df.shape"
   ]
  },
  {
   "cell_type": "markdown",
   "metadata": {},
   "source": [
    "Now, Let's create a new column with boolean info whether the attack was provoked or not. \n",
    "For the ones not clear, we will specify Nan to be checked further later."
   ]
  },
  {
   "cell_type": "code",
   "execution_count": 32,
   "metadata": {
    "scrolled": true
   },
   "outputs": [
    {
     "data": {
      "text/plain": [
       "array(['Boating', 'Unprovoked', 'Provoked', 'Questionable', nan, 'Boat',\n",
       "       'Sea Disaster'], dtype=object)"
      ]
     },
     "execution_count": 32,
     "metadata": {},
     "output_type": "execute_result"
    }
   ],
   "source": [
    "df.type.unique()"
   ]
  },
  {
   "cell_type": "code",
   "execution_count": 33,
   "metadata": {},
   "outputs": [],
   "source": [
    "df['was_provoked'] = df.apply(lambda x: mfc.was_provoked(x), axis=1)"
   ]
  },
  {
   "cell_type": "markdown",
   "metadata": {},
   "source": [
    "### Column Fatal"
   ]
  },
  {
   "cell_type": "markdown",
   "metadata": {},
   "source": [
    "Let's clean this column and report 1 if fatal, 0 if not fatal and NaN for the ones that are not specified."
   ]
  },
  {
   "cell_type": "code",
   "execution_count": 34,
   "metadata": {},
   "outputs": [
    {
     "data": {
      "text/plain": [
       "array(['N', 'Y', nan, 'UNKNOWN', ' N', 'N '], dtype=object)"
      ]
     },
     "execution_count": 34,
     "metadata": {},
     "output_type": "execute_result"
    }
   ],
   "source": [
    "df.fatal.unique()"
   ]
  },
  {
   "cell_type": "code",
   "execution_count": 35,
   "metadata": {},
   "outputs": [],
   "source": [
    "df['was_fatal']=df.fatal.apply(lambda x: mfc.clean_fatal(x))\n"
   ]
  },
  {
   "cell_type": "code",
   "execution_count": 36,
   "metadata": {},
   "outputs": [
    {
     "data": {
      "text/plain": [
       "0.0    2748\n",
       "1.0     465\n",
       "Name: was_fatal, dtype: int64"
      ]
     },
     "execution_count": 36,
     "metadata": {},
     "output_type": "execute_result"
    }
   ],
   "source": [
    "df.was_fatal.value_counts()"
   ]
  },
  {
   "cell_type": "markdown",
   "metadata": {},
   "source": [
    "### Column Species"
   ]
  },
  {
   "cell_type": "markdown",
   "metadata": {},
   "source": [
    "Now, let's get shark species."
   ]
  },
  {
   "cell_type": "code",
   "execution_count": 37,
   "metadata": {},
   "outputs": [
    {
     "data": {
      "text/plain": [
       "White shark                                                                             83\n",
       "4' shark                                                                                40\n",
       "Tiger shark                                                                             32\n",
       "6' shark                                                                                28\n",
       "Bull shark                                                                              27\n",
       "                                                                                        ..\n",
       "Nurse shark, 1.5 m [5']                                                                  1\n",
       "Tooth fragments of “whaler” shark were recovered, a bull shark, according to Edwards     1\n",
       "Reported to involve a hammerhead shark                                                   1\n",
       "3' to 3.5' shark                                                                         1\n",
       "8' white shark or 7-gill shark                                                           1\n",
       "Name: species, Length: 954, dtype: int64"
      ]
     },
     "execution_count": 37,
     "metadata": {},
     "output_type": "execute_result"
    }
   ],
   "source": [
    "df.species.value_counts()"
   ]
  },
  {
   "cell_type": "code",
   "execution_count": 38,
   "metadata": {
    "scrolled": false
   },
   "outputs": [],
   "source": [
    "df['species_clean'] = df.species.apply(lambda x: mfc.find_type_shark(x))"
   ]
  },
  {
   "cell_type": "code",
   "execution_count": 39,
   "metadata": {},
   "outputs": [
    {
     "data": {
      "text/plain": [
       "array(['white', nan, 'lemon', 'bull', 'grey reef', 'nurse', 'tiger',\n",
       "       'wobbegong', 'spinner', 'blacktip', 'sandtiger', 'sevengill',\n",
       "       'reef', 'whaler', 'hammerhead', 'mako', 'blue', 'sandbar',\n",
       "       'blacktip reef', 'whitetip', 'whitetip reef', 'galapagos', 'dusky',\n",
       "       'sand', 'caribbean reef', 'basking', 'silky', 'carpet', 'dog'],\n",
       "      dtype=object)"
      ]
     },
     "execution_count": 39,
     "metadata": {},
     "output_type": "execute_result"
    }
   ],
   "source": [
    "df.species_clean.unique()"
   ]
  },
  {
   "cell_type": "markdown",
   "metadata": {},
   "source": [
    "According to this [reference](https://www.dpi.nsw.gov.au/__data/assets/pdf_file/0007/375964/Whaler-Sharks.pdf), bull sharks are also called whaler sharks in Australia. Let's unify the name under bull sharks."
   ]
  },
  {
   "cell_type": "code",
   "execution_count": 40,
   "metadata": {},
   "outputs": [],
   "source": [
    "df['species_clean'] = np.where(df['species_clean'] == 'whaler', 'bull', df['species_clean'])"
   ]
  },
  {
   "cell_type": "code",
   "execution_count": 41,
   "metadata": {},
   "outputs": [
    {
     "data": {
      "text/plain": [
       "1073"
      ]
     },
     "execution_count": 41,
     "metadata": {},
     "output_type": "execute_result"
    }
   ],
   "source": [
    "df.species_clean.count()"
   ]
  },
  {
   "cell_type": "markdown",
   "metadata": {},
   "source": [
    "### Area"
   ]
  },
  {
   "cell_type": "markdown",
   "metadata": {},
   "source": [
    "Now, let's take a look at Area column. It looks quite well instead of some blanks and a small typo"
   ]
  },
  {
   "cell_type": "code",
   "execution_count": 42,
   "metadata": {},
   "outputs": [
    {
     "data": {
      "text/plain": [
       "array(['California', 'Georgia', 'New South Wales', 'Florida',\n",
       "       'Queensland', 'South Carolina', 'Westerm Australia',\n",
       "       'Western Australia', 'Hawaii', 'Victoria', 'South Australia',\n",
       "       'Texas', 'Massachusetts', 'New Jersey', 'Washington', 'Oregon',\n",
       "       'Tasmania', 'Alabama', 'North Carolina', 'Maryland', 'Louisiana',\n",
       "       'Delaware', 'Palmyra Atoll', 'Puerto Rico', 'Maine', 'Virginia',\n",
       "       'New York', 'Torres Strait', 'Northern Territory',\n",
       "       'US Virgin Islands', 'Territory of Cocos (Keeling) Islands',\n",
       "       'Kentucky', 'Guam', 'New Mexico', 'South Carolina ',\n",
       "       'Johnston Atoll', 'Alaska', 'Missouri', 'Mississippi',\n",
       "       'Rhode Island', 'North & South Carolina', 'Florida ', nan,\n",
       "       'Victoria ', 'Pennsylvania', 'Connecticut', 'Wake Island',\n",
       "       ' North Carolina', 'Midway Atoll', 'Torres Strait ', 'Queensland ',\n",
       "       'East coast', 'Norfolk Island', ' New Jersey', 'CUBA', 'New York ',\n",
       "       'North Carolina '], dtype=object)"
      ]
     },
     "execution_count": 42,
     "metadata": {},
     "output_type": "execute_result"
    }
   ],
   "source": [
    "df.area.unique()"
   ]
  },
  {
   "cell_type": "code",
   "execution_count": 43,
   "metadata": {},
   "outputs": [],
   "source": [
    "df['area_clean'] = df.area.str.strip()"
   ]
  },
  {
   "cell_type": "code",
   "execution_count": 44,
   "metadata": {},
   "outputs": [],
   "source": [
    "df['area_clean'] = np.where(df['area_clean'] == 'Westerm Australia', 'Western Australia', df['area_clean'])"
   ]
  },
  {
   "cell_type": "markdown",
   "metadata": {},
   "source": [
    "## DATA SAVING"
   ]
  },
  {
   "cell_type": "markdown",
   "metadata": {},
   "source": [
    "Once cleaned all columns needed for the study, let's keep only the ones to be used and rename them to a more suitable name."
   ]
  },
  {
   "cell_type": "code",
   "execution_count": 45,
   "metadata": {},
   "outputs": [
    {
     "data": {
      "text/plain": [
       "Index(['case_number', 'date', 'year', 'type', 'country', 'area', 'location',\n",
       "       'activity', 'name', 'sex', 'age', 'injury', 'fatal', 'time', 'species',\n",
       "       'month', 'year_clean', 'was_provoked', 'was_fatal', 'species_clean',\n",
       "       'area_clean'],\n",
       "      dtype='object')"
      ]
     },
     "execution_count": 45,
     "metadata": {},
     "output_type": "execute_result"
    }
   ],
   "source": [
    "df.columns"
   ]
  },
  {
   "cell_type": "code",
   "execution_count": 46,
   "metadata": {},
   "outputs": [],
   "source": [
    "df = df[['year_clean','month', 'country', 'area_clean','was_fatal','was_provoked', 'species_clean']]"
   ]
  },
  {
   "cell_type": "code",
   "execution_count": 47,
   "metadata": {},
   "outputs": [
    {
     "data": {
      "text/html": [
       "<div>\n",
       "<style scoped>\n",
       "    .dataframe tbody tr th:only-of-type {\n",
       "        vertical-align: middle;\n",
       "    }\n",
       "\n",
       "    .dataframe tbody tr th {\n",
       "        vertical-align: top;\n",
       "    }\n",
       "\n",
       "    .dataframe thead th {\n",
       "        text-align: right;\n",
       "    }\n",
       "</style>\n",
       "<table border=\"1\" class=\"dataframe\">\n",
       "  <thead>\n",
       "    <tr style=\"text-align: right;\">\n",
       "      <th></th>\n",
       "      <th>year</th>\n",
       "      <th>month</th>\n",
       "      <th>country</th>\n",
       "      <th>area</th>\n",
       "      <th>was_fatal</th>\n",
       "      <th>was_provoked</th>\n",
       "      <th>species</th>\n",
       "    </tr>\n",
       "  </thead>\n",
       "  <tbody>\n",
       "    <tr>\n",
       "      <th>0</th>\n",
       "      <td>2018</td>\n",
       "      <td>6.0</td>\n",
       "      <td>USA</td>\n",
       "      <td>California</td>\n",
       "      <td>0.0</td>\n",
       "      <td>0.0</td>\n",
       "      <td>white</td>\n",
       "    </tr>\n",
       "    <tr>\n",
       "      <th>1</th>\n",
       "      <td>2018</td>\n",
       "      <td>6.0</td>\n",
       "      <td>USA</td>\n",
       "      <td>Georgia</td>\n",
       "      <td>0.0</td>\n",
       "      <td>0.0</td>\n",
       "      <td>NaN</td>\n",
       "    </tr>\n",
       "    <tr>\n",
       "      <th>2</th>\n",
       "      <td>2018</td>\n",
       "      <td>6.0</td>\n",
       "      <td>AUSTRALIA</td>\n",
       "      <td>New South Wales</td>\n",
       "      <td>0.0</td>\n",
       "      <td>0.0</td>\n",
       "      <td>NaN</td>\n",
       "    </tr>\n",
       "    <tr>\n",
       "      <th>3</th>\n",
       "      <td>2018</td>\n",
       "      <td>6.0</td>\n",
       "      <td>AUSTRALIA</td>\n",
       "      <td>New South Wales</td>\n",
       "      <td>0.0</td>\n",
       "      <td>0.0</td>\n",
       "      <td>NaN</td>\n",
       "    </tr>\n",
       "    <tr>\n",
       "      <th>4</th>\n",
       "      <td>2018</td>\n",
       "      <td>5.0</td>\n",
       "      <td>USA</td>\n",
       "      <td>Florida</td>\n",
       "      <td>0.0</td>\n",
       "      <td>0.0</td>\n",
       "      <td>lemon</td>\n",
       "    </tr>\n",
       "    <tr>\n",
       "      <th>...</th>\n",
       "      <td>...</td>\n",
       "      <td>...</td>\n",
       "      <td>...</td>\n",
       "      <td>...</td>\n",
       "      <td>...</td>\n",
       "      <td>...</td>\n",
       "      <td>...</td>\n",
       "    </tr>\n",
       "    <tr>\n",
       "      <th>3250</th>\n",
       "      <td>1906</td>\n",
       "      <td>NaN</td>\n",
       "      <td>AUSTRALIA</td>\n",
       "      <td>NaN</td>\n",
       "      <td>1.0</td>\n",
       "      <td>0.0</td>\n",
       "      <td>NaN</td>\n",
       "    </tr>\n",
       "    <tr>\n",
       "      <th>3251</th>\n",
       "      <td>1906</td>\n",
       "      <td>NaN</td>\n",
       "      <td>AUSTRALIA</td>\n",
       "      <td>New South Wales</td>\n",
       "      <td>1.0</td>\n",
       "      <td>0.0</td>\n",
       "      <td>nurse</td>\n",
       "    </tr>\n",
       "    <tr>\n",
       "      <th>3252</th>\n",
       "      <td>1903</td>\n",
       "      <td>NaN</td>\n",
       "      <td>AUSTRALIA</td>\n",
       "      <td>Western Australia</td>\n",
       "      <td>1.0</td>\n",
       "      <td>0.0</td>\n",
       "      <td>NaN</td>\n",
       "    </tr>\n",
       "    <tr>\n",
       "      <th>3253</th>\n",
       "      <td>1903</td>\n",
       "      <td>NaN</td>\n",
       "      <td>AUSTRALIA</td>\n",
       "      <td>Western Australia</td>\n",
       "      <td>1.0</td>\n",
       "      <td>0.0</td>\n",
       "      <td>NaN</td>\n",
       "    </tr>\n",
       "    <tr>\n",
       "      <th>3254</th>\n",
       "      <td>1902</td>\n",
       "      <td>NaN</td>\n",
       "      <td>USA</td>\n",
       "      <td>North Carolina</td>\n",
       "      <td>1.0</td>\n",
       "      <td>0.0</td>\n",
       "      <td>NaN</td>\n",
       "    </tr>\n",
       "  </tbody>\n",
       "</table>\n",
       "<p>3255 rows × 7 columns</p>\n",
       "</div>"
      ],
      "text/plain": [
       "      year  month    country               area  was_fatal  was_provoked  \\\n",
       "0     2018    6.0        USA         California        0.0           0.0   \n",
       "1     2018    6.0        USA            Georgia        0.0           0.0   \n",
       "2     2018    6.0  AUSTRALIA    New South Wales        0.0           0.0   \n",
       "3     2018    6.0  AUSTRALIA    New South Wales        0.0           0.0   \n",
       "4     2018    5.0        USA            Florida        0.0           0.0   \n",
       "...    ...    ...        ...                ...        ...           ...   \n",
       "3250  1906    NaN  AUSTRALIA                NaN        1.0           0.0   \n",
       "3251  1906    NaN  AUSTRALIA    New South Wales        1.0           0.0   \n",
       "3252  1903    NaN  AUSTRALIA  Western Australia        1.0           0.0   \n",
       "3253  1903    NaN  AUSTRALIA  Western Australia        1.0           0.0   \n",
       "3254  1902    NaN        USA     North Carolina        1.0           0.0   \n",
       "\n",
       "     species  \n",
       "0      white  \n",
       "1        NaN  \n",
       "2        NaN  \n",
       "3        NaN  \n",
       "4      lemon  \n",
       "...      ...  \n",
       "3250     NaN  \n",
       "3251   nurse  \n",
       "3252     NaN  \n",
       "3253     NaN  \n",
       "3254     NaN  \n",
       "\n",
       "[3255 rows x 7 columns]"
      ]
     },
     "execution_count": 47,
     "metadata": {},
     "output_type": "execute_result"
    }
   ],
   "source": [
    "df = df.rename(columns = {'year_clean': 'year', 'area_clean': 'area', 'species_clean':'species'} )\n",
    "\n",
    "df.reset_index(drop=True)"
   ]
  },
  {
   "cell_type": "code",
   "execution_count": 48,
   "metadata": {},
   "outputs": [],
   "source": [
    "df.to_csv('data/cleaned_shark_attacks.csv', index=False)"
   ]
  },
  {
   "cell_type": "code",
   "execution_count": null,
   "metadata": {},
   "outputs": [],
   "source": []
  }
 ],
 "metadata": {
  "kernelspec": {
   "display_name": "Python 3",
   "language": "python",
   "name": "python3"
  },
  "language_info": {
   "codemirror_mode": {
    "name": "ipython",
    "version": 3
   },
   "file_extension": ".py",
   "mimetype": "text/x-python",
   "name": "python",
   "nbconvert_exporter": "python",
   "pygments_lexer": "ipython3",
   "version": "3.8.3"
  }
 },
 "nbformat": 4,
 "nbformat_minor": 4
}
